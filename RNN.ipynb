{
 "cells": [
  {
   "cell_type": "code",
   "execution_count": 1,
   "id": "fc38c5d9-642f-42d1-9dfe-2e904ee25cc8",
   "metadata": {},
   "outputs": [
    {
     "name": "stdout",
     "output_type": "stream",
     "text": [
      "Class Counts: {np.int64(0): np.int64(2), np.int64(1): np.int64(1), np.int64(2): np.int64(1), np.int64(3): np.int64(1), np.int64(4): np.int64(1), np.int64(5): np.int64(1), np.int64(6): np.int64(1), np.int64(7): np.int64(1), np.int64(8): np.int64(1), np.int64(9): np.int64(1), np.int64(10): np.int64(1), np.int64(11): np.int64(1), np.int64(12): np.int64(1), np.int64(13): np.int64(1), np.int64(14): np.int64(1), np.int64(15): np.int64(1), np.int64(16): np.int64(1), np.int64(17): np.int64(1), np.int64(18): np.int64(2), np.int64(19): np.int64(1), np.int64(20): np.int64(3), np.int64(21): np.int64(3), np.int64(22): np.int64(1), np.int64(23): np.int64(2), np.int64(24): np.int64(1), np.int64(25): np.int64(3), np.int64(26): np.int64(3), np.int64(27): np.int64(3), np.int64(28): np.int64(1), np.int64(29): np.int64(1), np.int64(30): np.int64(1), np.int64(31): np.int64(1), np.int64(32): np.int64(2), np.int64(33): np.int64(2), np.int64(34): np.int64(2), np.int64(35): np.int64(4), np.int64(36): np.int64(1), np.int64(37): np.int64(3), np.int64(38): np.int64(6), np.int64(39): np.int64(14), np.int64(40): np.int64(13), np.int64(41): np.int64(11), np.int64(42): np.int64(16), np.int64(43): np.int64(11), np.int64(44): np.int64(7), np.int64(45): np.int64(8), np.int64(46): np.int64(15), np.int64(47): np.int64(14), np.int64(48): np.int64(11), np.int64(49): np.int64(18), np.int64(50): np.int64(13), np.int64(51): np.int64(21), np.int64(52): np.int64(24), np.int64(53): np.int64(24), np.int64(54): np.int64(10), np.int64(55): np.int64(14), np.int64(56): np.int64(19), np.int64(57): np.int64(13), np.int64(58): np.int64(7), np.int64(59): np.int64(11), np.int64(60): np.int64(9), np.int64(61): np.int64(8), np.int64(62): np.int64(5), np.int64(63): np.int64(5), np.int64(64): np.int64(8), np.int64(65): np.int64(5), np.int64(66): np.int64(5), np.int64(67): np.int64(1), np.int64(68): np.int64(8), np.int64(69): np.int64(4), np.int64(70): np.int64(7), np.int64(71): np.int64(2), np.int64(72): np.int64(6), np.int64(73): np.int64(5), np.int64(74): np.int64(6), np.int64(75): np.int64(4), np.int64(76): np.int64(3), np.int64(77): np.int64(10), np.int64(78): np.int64(8), np.int64(79): np.int64(9), np.int64(80): np.int64(5), np.int64(81): np.int64(15), np.int64(82): np.int64(13), np.int64(83): np.int64(14), np.int64(84): np.int64(15), np.int64(85): np.int64(11), np.int64(86): np.int64(5), np.int64(87): np.int64(6), np.int64(88): np.int64(8), np.int64(89): np.int64(13), np.int64(90): np.int64(10), np.int64(91): np.int64(18), np.int64(92): np.int64(11), np.int64(93): np.int64(16), np.int64(94): np.int64(17), np.int64(95): np.int64(17), np.int64(96): np.int64(13), np.int64(97): np.int64(11), np.int64(98): np.int64(10), np.int64(99): np.int64(13), np.int64(100): np.int64(7), np.int64(101): np.int64(10), np.int64(102): np.int64(12), np.int64(103): np.int64(8), np.int64(104): np.int64(3), np.int64(105): np.int64(10), np.int64(106): np.int64(6), np.int64(107): np.int64(4), np.int64(108): np.int64(6), np.int64(109): np.int64(9), np.int64(110): np.int64(8), np.int64(111): np.int64(17), np.int64(112): np.int64(12), np.int64(113): np.int64(16), np.int64(114): np.int64(17), np.int64(115): np.int64(9), np.int64(116): np.int64(22), np.int64(117): np.int64(23), np.int64(118): np.int64(27), np.int64(119): np.int64(19), np.int64(120): np.int64(28), np.int64(121): np.int64(22), np.int64(122): np.int64(19), np.int64(123): np.int64(19), np.int64(124): np.int64(19), np.int64(125): np.int64(24), np.int64(126): np.int64(23), np.int64(127): np.int64(23), np.int64(128): np.int64(29), np.int64(129): np.int64(32), np.int64(130): np.int64(28), np.int64(131): np.int64(25), np.int64(132): np.int64(34), np.int64(133): np.int64(51), np.int64(134): np.int64(64), np.int64(135): np.int64(85), np.int64(136): np.int64(93), np.int64(137): np.int64(92), np.int64(138): np.int64(98), np.int64(139): np.int64(79), np.int64(140): np.int64(95), np.int64(141): np.int64(84), np.int64(142): np.int64(85), np.int64(143): np.int64(91), np.int64(144): np.int64(98), np.int64(145): np.int64(110), np.int64(146): np.int64(137), np.int64(147): np.int64(117), np.int64(148): np.int64(140), np.int64(149): np.int64(163), np.int64(150): np.int64(188), np.int64(151): np.int64(226), np.int64(152): np.int64(215), np.int64(153): np.int64(274), np.int64(154): np.int64(312), np.int64(155): np.int64(339), np.int64(156): np.int64(400), np.int64(157): np.int64(421), np.int64(158): np.int64(480), np.int64(159): np.int64(577), np.int64(160): np.int64(614), np.int64(161): np.int64(632), np.int64(162): np.int64(761), np.int64(163): np.int64(894), np.int64(164): np.int64(971), np.int64(165): np.int64(1054), np.int64(166): np.int64(1195), np.int64(167): np.int64(1329), np.int64(168): np.int64(1476), np.int64(169): np.int64(1531), np.int64(170): np.int64(1805), np.int64(171): np.int64(2079), np.int64(172): np.int64(2096), np.int64(173): np.int64(2326), np.int64(174): np.int64(2584), np.int64(175): np.int64(2755), np.int64(176): np.int64(3219), np.int64(177): np.int64(3384), np.int64(178): np.int64(3771), np.int64(179): np.int64(4066), np.int64(180): np.int64(4312), np.int64(181): np.int64(4789), np.int64(182): np.int64(4972), np.int64(183): np.int64(4992), np.int64(184): np.int64(6152), np.int64(185): np.int64(6011), np.int64(186): np.int64(6731), np.int64(187): np.int64(7471), np.int64(188): np.int64(7290), np.int64(189): np.int64(8035), np.int64(190): np.int64(8519), np.int64(191): np.int64(9451), np.int64(192): np.int64(9010), np.int64(193): np.int64(9642), np.int64(194): np.int64(10498), np.int64(195): np.int64(11076), np.int64(196): np.int64(11245), np.int64(197): np.int64(12147), np.int64(198): np.int64(12420), np.int64(199): np.int64(13599), np.int64(200): np.int64(13119), np.int64(201): np.int64(13617), np.int64(202): np.int64(14435), np.int64(203): np.int64(14959), np.int64(204): np.int64(14520), np.int64(205): np.int64(15007), np.int64(206): np.int64(15454), np.int64(207): np.int64(14748), np.int64(208): np.int64(15865), np.int64(209): np.int64(14806), np.int64(210): np.int64(15186), np.int64(211): np.int64(14891), np.int64(212): np.int64(14545), np.int64(213): np.int64(14250), np.int64(214): np.int64(13991), np.int64(215): np.int64(12784), np.int64(216): np.int64(14270), np.int64(217): np.int64(12282), np.int64(218): np.int64(12339), np.int64(219): np.int64(11898), np.int64(220): np.int64(10672), np.int64(221): np.int64(10264), np.int64(222): np.int64(9874), np.int64(223): np.int64(9267), np.int64(224): np.int64(8033), np.int64(225): np.int64(7696), np.int64(226): np.int64(7253), np.int64(227): np.int64(6592), np.int64(228): np.int64(6120), np.int64(229): np.int64(5480), np.int64(230): np.int64(4953), np.int64(231): np.int64(4333), np.int64(232): np.int64(4465), np.int64(233): np.int64(3685), np.int64(234): np.int64(3480), np.int64(235): np.int64(3170), np.int64(236): np.int64(2602), np.int64(237): np.int64(2482), np.int64(238): np.int64(2228), np.int64(239): np.int64(1835), np.int64(240): np.int64(1883), np.int64(241): np.int64(1612), np.int64(242): np.int64(1480), np.int64(243): np.int64(1318), np.int64(244): np.int64(1212), np.int64(245): np.int64(1065), np.int64(246): np.int64(925), np.int64(247): np.int64(907), np.int64(248): np.int64(822), np.int64(249): np.int64(630), np.int64(250): np.int64(607), np.int64(251): np.int64(611), np.int64(252): np.int64(520), np.int64(253): np.int64(498), np.int64(254): np.int64(434), np.int64(255): np.int64(442), np.int64(256): np.int64(395), np.int64(257): np.int64(403), np.int64(258): np.int64(326), np.int64(259): np.int64(322), np.int64(260): np.int64(311), np.int64(261): np.int64(287), np.int64(262): np.int64(276), np.int64(263): np.int64(318), np.int64(264): np.int64(267), np.int64(265): np.int64(261), np.int64(266): np.int64(294), np.int64(267): np.int64(251), np.int64(268): np.int64(245), np.int64(269): np.int64(251), np.int64(270): np.int64(253), np.int64(271): np.int64(250), np.int64(272): np.int64(244), np.int64(273): np.int64(204), np.int64(274): np.int64(218), np.int64(275): np.int64(234), np.int64(276): np.int64(208), np.int64(277): np.int64(203), np.int64(278): np.int64(200), np.int64(279): np.int64(245), np.int64(280): np.int64(223), np.int64(281): np.int64(224), np.int64(282): np.int64(183), np.int64(283): np.int64(183), np.int64(284): np.int64(185), np.int64(285): np.int64(205), np.int64(286): np.int64(210), np.int64(287): np.int64(198), np.int64(288): np.int64(160), np.int64(289): np.int64(203), np.int64(290): np.int64(202), np.int64(291): np.int64(170), np.int64(292): np.int64(162), np.int64(293): np.int64(148), np.int64(294): np.int64(160), np.int64(295): np.int64(172), np.int64(296): np.int64(182), np.int64(297): np.int64(171), np.int64(298): np.int64(172), np.int64(299): np.int64(168), np.int64(300): np.int64(154), np.int64(301): np.int64(164), np.int64(302): np.int64(172), np.int64(303): np.int64(152), np.int64(304): np.int64(157), np.int64(305): np.int64(147), np.int64(306): np.int64(162), np.int64(307): np.int64(145), np.int64(308): np.int64(160), np.int64(309): np.int64(141), np.int64(310): np.int64(156), np.int64(311): np.int64(166), np.int64(312): np.int64(168), np.int64(313): np.int64(137), np.int64(314): np.int64(141), np.int64(315): np.int64(138), np.int64(316): np.int64(137), np.int64(317): np.int64(159), np.int64(318): np.int64(136), np.int64(319): np.int64(158), np.int64(320): np.int64(152), np.int64(321): np.int64(137), np.int64(322): np.int64(157), np.int64(323): np.int64(163), np.int64(324): np.int64(135), np.int64(325): np.int64(164), np.int64(326): np.int64(146), np.int64(327): np.int64(154), np.int64(328): np.int64(134), np.int64(329): np.int64(151), np.int64(330): np.int64(158), np.int64(331): np.int64(156), np.int64(332): np.int64(136), np.int64(333): np.int64(148), np.int64(334): np.int64(147), np.int64(335): np.int64(158), np.int64(336): np.int64(161), np.int64(337): np.int64(140), np.int64(338): np.int64(153), np.int64(339): np.int64(144), np.int64(340): np.int64(165), np.int64(341): np.int64(163), np.int64(342): np.int64(136), np.int64(343): np.int64(156), np.int64(344): np.int64(153), np.int64(345): np.int64(161), np.int64(346): np.int64(150), np.int64(347): np.int64(138), np.int64(348): np.int64(138), np.int64(349): np.int64(143), np.int64(350): np.int64(127), np.int64(351): np.int64(129), np.int64(352): np.int64(123), np.int64(353): np.int64(130), np.int64(354): np.int64(133), np.int64(355): np.int64(109), np.int64(356): np.int64(105), np.int64(357): np.int64(132), np.int64(358): np.int64(122), np.int64(359): np.int64(111), np.int64(360): np.int64(127), np.int64(361): np.int64(118), np.int64(362): np.int64(119), np.int64(363): np.int64(112), np.int64(364): np.int64(116), np.int64(365): np.int64(120), np.int64(366): np.int64(114), np.int64(367): np.int64(106), np.int64(368): np.int64(113), np.int64(369): np.int64(100), np.int64(370): np.int64(116), np.int64(371): np.int64(115), np.int64(372): np.int64(90), np.int64(373): np.int64(92), np.int64(374): np.int64(76), np.int64(375): np.int64(89), np.int64(376): np.int64(79), np.int64(377): np.int64(83), np.int64(378): np.int64(90), np.int64(379): np.int64(96), np.int64(380): np.int64(86), np.int64(381): np.int64(95), np.int64(382): np.int64(67), np.int64(383): np.int64(81), np.int64(384): np.int64(77), np.int64(385): np.int64(70), np.int64(386): np.int64(82), np.int64(387): np.int64(78), np.int64(388): np.int64(78), np.int64(389): np.int64(76), np.int64(390): np.int64(66), np.int64(391): np.int64(74), np.int64(392): np.int64(63), np.int64(393): np.int64(71), np.int64(394): np.int64(73), np.int64(395): np.int64(76), np.int64(396): np.int64(60), np.int64(397): np.int64(70), np.int64(398): np.int64(67), np.int64(399): np.int64(67), np.int64(400): np.int64(60), np.int64(401): np.int64(57), np.int64(402): np.int64(73), np.int64(403): np.int64(54), np.int64(404): np.int64(52), np.int64(405): np.int64(72), np.int64(406): np.int64(54), np.int64(407): np.int64(40), np.int64(408): np.int64(44), np.int64(409): np.int64(58), np.int64(410): np.int64(51), np.int64(411): np.int64(63), np.int64(412): np.int64(48), np.int64(413): np.int64(42), np.int64(414): np.int64(41), np.int64(415): np.int64(53), np.int64(416): np.int64(41), np.int64(417): np.int64(45), np.int64(418): np.int64(44), np.int64(419): np.int64(45), np.int64(420): np.int64(36), np.int64(421): np.int64(45), np.int64(422): np.int64(46), np.int64(423): np.int64(36), np.int64(424): np.int64(35), np.int64(425): np.int64(30), np.int64(426): np.int64(32), np.int64(427): np.int64(33), np.int64(428): np.int64(38), np.int64(429): np.int64(29), np.int64(430): np.int64(36), np.int64(431): np.int64(27), np.int64(432): np.int64(23), np.int64(433): np.int64(27), np.int64(434): np.int64(26), np.int64(435): np.int64(22), np.int64(436): np.int64(19), np.int64(437): np.int64(19), np.int64(438): np.int64(14), np.int64(439): np.int64(15), np.int64(440): np.int64(22), np.int64(441): np.int64(11), np.int64(442): np.int64(10), np.int64(443): np.int64(10), np.int64(444): np.int64(11), np.int64(445): np.int64(10), np.int64(446): np.int64(17), np.int64(447): np.int64(5), np.int64(448): np.int64(9), np.int64(449): np.int64(8), np.int64(450): np.int64(7), np.int64(451): np.int64(9), np.int64(452): np.int64(4), np.int64(453): np.int64(4), np.int64(454): np.int64(6), np.int64(455): np.int64(3), np.int64(456): np.int64(2), np.int64(457): np.int64(1), np.int64(458): np.int64(1), np.int64(459): np.int64(3), np.int64(460): np.int64(6), np.int64(461): np.int64(3), np.int64(462): np.int64(1), np.int64(463): np.int64(4), np.int64(464): np.int64(1), np.int64(465): np.int64(3), np.int64(466): np.int64(2), np.int64(467): np.int64(3), np.int64(468): np.int64(2), np.int64(469): np.int64(1), np.int64(470): np.int64(1), np.int64(471): np.int64(1), np.int64(472): np.int64(1), np.int64(473): np.int64(2), np.int64(474): np.int64(1), np.int64(475): np.int64(1), np.int64(476): np.int64(1), np.int64(477): np.int64(1), np.int64(478): np.int64(1), np.int64(479): np.int64(1)}\n"
     ]
    },
    {
     "name": "stderr",
     "output_type": "stream",
     "text": [
      "C:\\Users\\abdulssekyanzi\\AppData\\Local\\Programs\\Python\\Python312\\Lib\\site-packages\\keras\\src\\layers\\rnn\\rnn.py:200: UserWarning: Do not pass an `input_shape`/`input_dim` argument to a layer. When using Sequential models, prefer using an `Input(shape)` object as the first layer in the model instead.\n",
      "  super().__init__(**kwargs)\n"
     ]
    },
    {
     "data": {
      "text/html": [
       "<pre style=\"white-space:pre;overflow-x:auto;line-height:normal;font-family:Menlo,'DejaVu Sans Mono',consolas,'Courier New',monospace\"><span style=\"font-weight: bold\">Model: \"sequential\"</span>\n",
       "</pre>\n"
      ],
      "text/plain": [
       "\u001b[1mModel: \"sequential\"\u001b[0m\n"
      ]
     },
     "metadata": {},
     "output_type": "display_data"
    },
    {
     "data": {
      "text/html": [
       "<pre style=\"white-space:pre;overflow-x:auto;line-height:normal;font-family:Menlo,'DejaVu Sans Mono',consolas,'Courier New',monospace\">┏━━━━━━━━━━━━━━━━━━━━━━━━━━━━━━━━━━━━━━┳━━━━━━━━━━━━━━━━━━━━━━━━━━━━━┳━━━━━━━━━━━━━━━━━┓\n",
       "┃<span style=\"font-weight: bold\"> Layer (type)                         </span>┃<span style=\"font-weight: bold\"> Output Shape                </span>┃<span style=\"font-weight: bold\">         Param # </span>┃\n",
       "┡━━━━━━━━━━━━━━━━━━━━━━━━━━━━━━━━━━━━━━╇━━━━━━━━━━━━━━━━━━━━━━━━━━━━━╇━━━━━━━━━━━━━━━━━┩\n",
       "│ lstm (<span style=\"color: #0087ff; text-decoration-color: #0087ff\">LSTM</span>)                          │ (<span style=\"color: #00d7ff; text-decoration-color: #00d7ff\">None</span>, <span style=\"color: #00af00; text-decoration-color: #00af00\">1</span>, <span style=\"color: #00af00; text-decoration-color: #00af00\">64</span>)               │          <span style=\"color: #00af00; text-decoration-color: #00af00\">16,896</span> │\n",
       "├──────────────────────────────────────┼─────────────────────────────┼─────────────────┤\n",
       "│ dropout (<span style=\"color: #0087ff; text-decoration-color: #0087ff\">Dropout</span>)                    │ (<span style=\"color: #00d7ff; text-decoration-color: #00d7ff\">None</span>, <span style=\"color: #00af00; text-decoration-color: #00af00\">1</span>, <span style=\"color: #00af00; text-decoration-color: #00af00\">64</span>)               │               <span style=\"color: #00af00; text-decoration-color: #00af00\">0</span> │\n",
       "├──────────────────────────────────────┼─────────────────────────────┼─────────────────┤\n",
       "│ lstm_1 (<span style=\"color: #0087ff; text-decoration-color: #0087ff\">LSTM</span>)                        │ (<span style=\"color: #00d7ff; text-decoration-color: #00d7ff\">None</span>, <span style=\"color: #00af00; text-decoration-color: #00af00\">32</span>)                  │          <span style=\"color: #00af00; text-decoration-color: #00af00\">12,416</span> │\n",
       "├──────────────────────────────────────┼─────────────────────────────┼─────────────────┤\n",
       "│ dropout_1 (<span style=\"color: #0087ff; text-decoration-color: #0087ff\">Dropout</span>)                  │ (<span style=\"color: #00d7ff; text-decoration-color: #00d7ff\">None</span>, <span style=\"color: #00af00; text-decoration-color: #00af00\">32</span>)                  │               <span style=\"color: #00af00; text-decoration-color: #00af00\">0</span> │\n",
       "├──────────────────────────────────────┼─────────────────────────────┼─────────────────┤\n",
       "│ dense (<span style=\"color: #0087ff; text-decoration-color: #0087ff\">Dense</span>)                        │ (<span style=\"color: #00d7ff; text-decoration-color: #00d7ff\">None</span>, <span style=\"color: #00af00; text-decoration-color: #00af00\">32</span>)                  │           <span style=\"color: #00af00; text-decoration-color: #00af00\">1,056</span> │\n",
       "├──────────────────────────────────────┼─────────────────────────────┼─────────────────┤\n",
       "│ dense_1 (<span style=\"color: #0087ff; text-decoration-color: #0087ff\">Dense</span>)                      │ (<span style=\"color: #00d7ff; text-decoration-color: #00d7ff\">None</span>, <span style=\"color: #00af00; text-decoration-color: #00af00\">440</span>)                 │          <span style=\"color: #00af00; text-decoration-color: #00af00\">14,520</span> │\n",
       "└──────────────────────────────────────┴─────────────────────────────┴─────────────────┘\n",
       "</pre>\n"
      ],
      "text/plain": [
       "┏━━━━━━━━━━━━━━━━━━━━━━━━━━━━━━━━━━━━━━┳━━━━━━━━━━━━━━━━━━━━━━━━━━━━━┳━━━━━━━━━━━━━━━━━┓\n",
       "┃\u001b[1m \u001b[0m\u001b[1mLayer (type)                        \u001b[0m\u001b[1m \u001b[0m┃\u001b[1m \u001b[0m\u001b[1mOutput Shape               \u001b[0m\u001b[1m \u001b[0m┃\u001b[1m \u001b[0m\u001b[1m        Param #\u001b[0m\u001b[1m \u001b[0m┃\n",
       "┡━━━━━━━━━━━━━━━━━━━━━━━━━━━━━━━━━━━━━━╇━━━━━━━━━━━━━━━━━━━━━━━━━━━━━╇━━━━━━━━━━━━━━━━━┩\n",
       "│ lstm (\u001b[38;5;33mLSTM\u001b[0m)                          │ (\u001b[38;5;45mNone\u001b[0m, \u001b[38;5;34m1\u001b[0m, \u001b[38;5;34m64\u001b[0m)               │          \u001b[38;5;34m16,896\u001b[0m │\n",
       "├──────────────────────────────────────┼─────────────────────────────┼─────────────────┤\n",
       "│ dropout (\u001b[38;5;33mDropout\u001b[0m)                    │ (\u001b[38;5;45mNone\u001b[0m, \u001b[38;5;34m1\u001b[0m, \u001b[38;5;34m64\u001b[0m)               │               \u001b[38;5;34m0\u001b[0m │\n",
       "├──────────────────────────────────────┼─────────────────────────────┼─────────────────┤\n",
       "│ lstm_1 (\u001b[38;5;33mLSTM\u001b[0m)                        │ (\u001b[38;5;45mNone\u001b[0m, \u001b[38;5;34m32\u001b[0m)                  │          \u001b[38;5;34m12,416\u001b[0m │\n",
       "├──────────────────────────────────────┼─────────────────────────────┼─────────────────┤\n",
       "│ dropout_1 (\u001b[38;5;33mDropout\u001b[0m)                  │ (\u001b[38;5;45mNone\u001b[0m, \u001b[38;5;34m32\u001b[0m)                  │               \u001b[38;5;34m0\u001b[0m │\n",
       "├──────────────────────────────────────┼─────────────────────────────┼─────────────────┤\n",
       "│ dense (\u001b[38;5;33mDense\u001b[0m)                        │ (\u001b[38;5;45mNone\u001b[0m, \u001b[38;5;34m32\u001b[0m)                  │           \u001b[38;5;34m1,056\u001b[0m │\n",
       "├──────────────────────────────────────┼─────────────────────────────┼─────────────────┤\n",
       "│ dense_1 (\u001b[38;5;33mDense\u001b[0m)                      │ (\u001b[38;5;45mNone\u001b[0m, \u001b[38;5;34m440\u001b[0m)                 │          \u001b[38;5;34m14,520\u001b[0m │\n",
       "└──────────────────────────────────────┴─────────────────────────────┴─────────────────┘\n"
      ]
     },
     "metadata": {},
     "output_type": "display_data"
    },
    {
     "data": {
      "text/html": [
       "<pre style=\"white-space:pre;overflow-x:auto;line-height:normal;font-family:Menlo,'DejaVu Sans Mono',consolas,'Courier New',monospace\"><span style=\"font-weight: bold\"> Total params: </span><span style=\"color: #00af00; text-decoration-color: #00af00\">44,888</span> (175.34 KB)\n",
       "</pre>\n"
      ],
      "text/plain": [
       "\u001b[1m Total params: \u001b[0m\u001b[38;5;34m44,888\u001b[0m (175.34 KB)\n"
      ]
     },
     "metadata": {},
     "output_type": "display_data"
    },
    {
     "data": {
      "text/html": [
       "<pre style=\"white-space:pre;overflow-x:auto;line-height:normal;font-family:Menlo,'DejaVu Sans Mono',consolas,'Courier New',monospace\"><span style=\"font-weight: bold\"> Trainable params: </span><span style=\"color: #00af00; text-decoration-color: #00af00\">44,888</span> (175.34 KB)\n",
       "</pre>\n"
      ],
      "text/plain": [
       "\u001b[1m Trainable params: \u001b[0m\u001b[38;5;34m44,888\u001b[0m (175.34 KB)\n"
      ]
     },
     "metadata": {},
     "output_type": "display_data"
    },
    {
     "data": {
      "text/html": [
       "<pre style=\"white-space:pre;overflow-x:auto;line-height:normal;font-family:Menlo,'DejaVu Sans Mono',consolas,'Courier New',monospace\"><span style=\"font-weight: bold\"> Non-trainable params: </span><span style=\"color: #00af00; text-decoration-color: #00af00\">0</span> (0.00 B)\n",
       "</pre>\n"
      ],
      "text/plain": [
       "\u001b[1m Non-trainable params: \u001b[0m\u001b[38;5;34m0\u001b[0m (0.00 B)\n"
      ]
     },
     "metadata": {},
     "output_type": "display_data"
    },
    {
     "name": "stdout",
     "output_type": "stream",
     "text": [
      "Epoch 1/10\n",
      "\u001b[1m32498/32498\u001b[0m \u001b[32m━━━━━━━━━━━━━━━━━━━━\u001b[0m\u001b[37m\u001b[0m \u001b[1m200s\u001b[0m 6ms/step - accuracy: 0.0275 - loss: 4.3052 - val_accuracy: 0.0289 - val_loss: 4.2043\n",
      "Epoch 2/10\n",
      "\u001b[1m32498/32498\u001b[0m \u001b[32m━━━━━━━━━━━━━━━━━━━━\u001b[0m\u001b[37m\u001b[0m \u001b[1m201s\u001b[0m 6ms/step - accuracy: 0.0295 - loss: 4.2138 - val_accuracy: 0.0299 - val_loss: 4.2030\n",
      "Epoch 3/10\n",
      "\u001b[1m32498/32498\u001b[0m \u001b[32m━━━━━━━━━━━━━━━━━━━━\u001b[0m\u001b[37m\u001b[0m \u001b[1m237s\u001b[0m 7ms/step - accuracy: 0.0296 - loss: 4.2102 - val_accuracy: 0.0294 - val_loss: 4.2026\n",
      "Epoch 4/10\n",
      "\u001b[1m32498/32498\u001b[0m \u001b[32m━━━━━━━━━━━━━━━━━━━━\u001b[0m\u001b[37m\u001b[0m \u001b[1m274s\u001b[0m 8ms/step - accuracy: 0.0297 - loss: 4.2122 - val_accuracy: 0.0302 - val_loss: 4.2022\n",
      "Epoch 5/10\n",
      "\u001b[1m32498/32498\u001b[0m \u001b[32m━━━━━━━━━━━━━━━━━━━━\u001b[0m\u001b[37m\u001b[0m \u001b[1m251s\u001b[0m 8ms/step - accuracy: 0.0303 - loss: 4.2081 - val_accuracy: 0.0301 - val_loss: 4.2027\n",
      "Epoch 6/10\n",
      "\u001b[1m32498/32498\u001b[0m \u001b[32m━━━━━━━━━━━━━━━━━━━━\u001b[0m\u001b[37m\u001b[0m \u001b[1m258s\u001b[0m 8ms/step - accuracy: 0.0295 - loss: 4.2112 - val_accuracy: 0.0297 - val_loss: 4.2033\n",
      "Epoch 7/10\n",
      "\u001b[1m32498/32498\u001b[0m \u001b[32m━━━━━━━━━━━━━━━━━━━━\u001b[0m\u001b[37m\u001b[0m \u001b[1m239s\u001b[0m 7ms/step - accuracy: 0.0299 - loss: 4.2080 - val_accuracy: 0.0293 - val_loss: 4.2025\n",
      "Epoch 8/10\n",
      "\u001b[1m32498/32498\u001b[0m \u001b[32m━━━━━━━━━━━━━━━━━━━━\u001b[0m\u001b[37m\u001b[0m \u001b[1m207s\u001b[0m 6ms/step - accuracy: 0.0293 - loss: 4.2114 - val_accuracy: 0.0300 - val_loss: 4.2033\n",
      "Epoch 9/10\n",
      "\u001b[1m32498/32498\u001b[0m \u001b[32m━━━━━━━━━━━━━━━━━━━━\u001b[0m\u001b[37m\u001b[0m \u001b[1m225s\u001b[0m 7ms/step - accuracy: 0.0303 - loss: 4.2098 - val_accuracy: 0.0299 - val_loss: 4.2019\n",
      "Epoch 10/10\n",
      "\u001b[1m32498/32498\u001b[0m \u001b[32m━━━━━━━━━━━━━━━━━━━━\u001b[0m\u001b[37m\u001b[0m \u001b[1m244s\u001b[0m 8ms/step - accuracy: 0.0294 - loss: 4.2063 - val_accuracy: 0.0303 - val_loss: 4.2028\n",
      "\u001b[1m4063/4063\u001b[0m \u001b[32m━━━━━━━━━━━━━━━━━━━━\u001b[0m\u001b[37m\u001b[0m \u001b[1m19s\u001b[0m 4ms/step\n",
      "Test Accuracy: 2.99%\n"
     ]
    },
    {
     "ename": "ValueError",
     "evalue": "Number of classes, 429, does not match size of target_names, 440. Try specifying the labels parameter",
     "output_type": "error",
     "traceback": [
      "\u001b[1;31m---------------------------------------------------------------------------\u001b[0m",
      "\u001b[1;31mValueError\u001b[0m                                Traceback (most recent call last)",
      "Cell \u001b[1;32mIn[1], line 86\u001b[0m\n\u001b[0;32m     83\u001b[0m \u001b[38;5;28mprint\u001b[39m(\u001b[38;5;124mf\u001b[39m\u001b[38;5;124m\"\u001b[39m\u001b[38;5;124mTest Accuracy: \u001b[39m\u001b[38;5;132;01m{\u001b[39;00maccuracy\u001b[38;5;250m \u001b[39m\u001b[38;5;241m*\u001b[39m\u001b[38;5;250m \u001b[39m\u001b[38;5;241m100\u001b[39m\u001b[38;5;132;01m:\u001b[39;00m\u001b[38;5;124m.2f\u001b[39m\u001b[38;5;132;01m}\u001b[39;00m\u001b[38;5;124m%\u001b[39m\u001b[38;5;124m\"\u001b[39m)\n\u001b[0;32m     85\u001b[0m \u001b[38;5;66;03m# Classification report\u001b[39;00m\n\u001b[1;32m---> 86\u001b[0m \u001b[38;5;28mprint\u001b[39m(\u001b[43mclassification_report\u001b[49m\u001b[43m(\u001b[49m\u001b[43my_test\u001b[49m\u001b[43m,\u001b[49m\u001b[43m \u001b[49m\u001b[43my_pred_classes\u001b[49m\u001b[43m,\u001b[49m\u001b[43m \u001b[49m\u001b[43mtarget_names\u001b[49m\u001b[38;5;241;43m=\u001b[39;49m\u001b[43mlabel_encoder\u001b[49m\u001b[38;5;241;43m.\u001b[39;49m\u001b[43mclasses_\u001b[49m\u001b[43m)\u001b[49m)\n\u001b[0;32m     88\u001b[0m \u001b[38;5;66;03m# Plot training history\u001b[39;00m\n\u001b[0;32m     89\u001b[0m plt\u001b[38;5;241m.\u001b[39mfigure(figsize\u001b[38;5;241m=\u001b[39m(\u001b[38;5;241m12\u001b[39m, \u001b[38;5;241m4\u001b[39m))\n",
      "File \u001b[1;32m~\\AppData\\Local\\Programs\\Python\\Python312\\Lib\\site-packages\\sklearn\\utils\\_param_validation.py:216\u001b[0m, in \u001b[0;36mvalidate_params.<locals>.decorator.<locals>.wrapper\u001b[1;34m(*args, **kwargs)\u001b[0m\n\u001b[0;32m    210\u001b[0m \u001b[38;5;28;01mtry\u001b[39;00m:\n\u001b[0;32m    211\u001b[0m     \u001b[38;5;28;01mwith\u001b[39;00m config_context(\n\u001b[0;32m    212\u001b[0m         skip_parameter_validation\u001b[38;5;241m=\u001b[39m(\n\u001b[0;32m    213\u001b[0m             prefer_skip_nested_validation \u001b[38;5;129;01mor\u001b[39;00m global_skip_validation\n\u001b[0;32m    214\u001b[0m         )\n\u001b[0;32m    215\u001b[0m     ):\n\u001b[1;32m--> 216\u001b[0m         \u001b[38;5;28;01mreturn\u001b[39;00m \u001b[43mfunc\u001b[49m\u001b[43m(\u001b[49m\u001b[38;5;241;43m*\u001b[39;49m\u001b[43margs\u001b[49m\u001b[43m,\u001b[49m\u001b[43m \u001b[49m\u001b[38;5;241;43m*\u001b[39;49m\u001b[38;5;241;43m*\u001b[39;49m\u001b[43mkwargs\u001b[49m\u001b[43m)\u001b[49m\n\u001b[0;32m    217\u001b[0m \u001b[38;5;28;01mexcept\u001b[39;00m InvalidParameterError \u001b[38;5;28;01mas\u001b[39;00m e:\n\u001b[0;32m    218\u001b[0m     \u001b[38;5;66;03m# When the function is just a wrapper around an estimator, we allow\u001b[39;00m\n\u001b[0;32m    219\u001b[0m     \u001b[38;5;66;03m# the function to delegate validation to the estimator, but we replace\u001b[39;00m\n\u001b[0;32m    220\u001b[0m     \u001b[38;5;66;03m# the name of the estimator by the name of the function in the error\u001b[39;00m\n\u001b[0;32m    221\u001b[0m     \u001b[38;5;66;03m# message to avoid confusion.\u001b[39;00m\n\u001b[0;32m    222\u001b[0m     msg \u001b[38;5;241m=\u001b[39m re\u001b[38;5;241m.\u001b[39msub(\n\u001b[0;32m    223\u001b[0m         \u001b[38;5;124mr\u001b[39m\u001b[38;5;124m\"\u001b[39m\u001b[38;5;124mparameter of \u001b[39m\u001b[38;5;124m\\\u001b[39m\u001b[38;5;124mw+ must be\u001b[39m\u001b[38;5;124m\"\u001b[39m,\n\u001b[0;32m    224\u001b[0m         \u001b[38;5;124mf\u001b[39m\u001b[38;5;124m\"\u001b[39m\u001b[38;5;124mparameter of \u001b[39m\u001b[38;5;132;01m{\u001b[39;00mfunc\u001b[38;5;241m.\u001b[39m\u001b[38;5;18m__qualname__\u001b[39m\u001b[38;5;132;01m}\u001b[39;00m\u001b[38;5;124m must be\u001b[39m\u001b[38;5;124m\"\u001b[39m,\n\u001b[0;32m    225\u001b[0m         \u001b[38;5;28mstr\u001b[39m(e),\n\u001b[0;32m    226\u001b[0m     )\n",
      "File \u001b[1;32m~\\AppData\\Local\\Programs\\Python\\Python312\\Lib\\site-packages\\sklearn\\metrics\\_classification.py:2693\u001b[0m, in \u001b[0;36mclassification_report\u001b[1;34m(y_true, y_pred, labels, target_names, sample_weight, digits, output_dict, zero_division)\u001b[0m\n\u001b[0;32m   2687\u001b[0m         warnings\u001b[38;5;241m.\u001b[39mwarn(\n\u001b[0;32m   2688\u001b[0m             \u001b[38;5;124m\"\u001b[39m\u001b[38;5;124mlabels size, \u001b[39m\u001b[38;5;132;01m{0}\u001b[39;00m\u001b[38;5;124m, does not match size of target_names, \u001b[39m\u001b[38;5;132;01m{1}\u001b[39;00m\u001b[38;5;124m\"\u001b[39m\u001b[38;5;241m.\u001b[39mformat(\n\u001b[0;32m   2689\u001b[0m                 \u001b[38;5;28mlen\u001b[39m(labels), \u001b[38;5;28mlen\u001b[39m(target_names)\n\u001b[0;32m   2690\u001b[0m             )\n\u001b[0;32m   2691\u001b[0m         )\n\u001b[0;32m   2692\u001b[0m     \u001b[38;5;28;01melse\u001b[39;00m:\n\u001b[1;32m-> 2693\u001b[0m         \u001b[38;5;28;01mraise\u001b[39;00m \u001b[38;5;167;01mValueError\u001b[39;00m(\n\u001b[0;32m   2694\u001b[0m             \u001b[38;5;124m\"\u001b[39m\u001b[38;5;124mNumber of classes, \u001b[39m\u001b[38;5;132;01m{0}\u001b[39;00m\u001b[38;5;124m, does not match size of \u001b[39m\u001b[38;5;124m\"\u001b[39m\n\u001b[0;32m   2695\u001b[0m             \u001b[38;5;124m\"\u001b[39m\u001b[38;5;124mtarget_names, \u001b[39m\u001b[38;5;132;01m{1}\u001b[39;00m\u001b[38;5;124m. Try specifying the labels \u001b[39m\u001b[38;5;124m\"\u001b[39m\n\u001b[0;32m   2696\u001b[0m             \u001b[38;5;124m\"\u001b[39m\u001b[38;5;124mparameter\u001b[39m\u001b[38;5;124m\"\u001b[39m\u001b[38;5;241m.\u001b[39mformat(\u001b[38;5;28mlen\u001b[39m(labels), \u001b[38;5;28mlen\u001b[39m(target_names))\n\u001b[0;32m   2697\u001b[0m         )\n\u001b[0;32m   2698\u001b[0m \u001b[38;5;28;01mif\u001b[39;00m target_names \u001b[38;5;129;01mis\u001b[39;00m \u001b[38;5;28;01mNone\u001b[39;00m:\n\u001b[0;32m   2699\u001b[0m     target_names \u001b[38;5;241m=\u001b[39m [\u001b[38;5;124m\"\u001b[39m\u001b[38;5;132;01m%s\u001b[39;00m\u001b[38;5;124m\"\u001b[39m \u001b[38;5;241m%\u001b[39m l \u001b[38;5;28;01mfor\u001b[39;00m l \u001b[38;5;129;01min\u001b[39;00m labels]\n",
      "\u001b[1;31mValueError\u001b[0m: Number of classes, 429, does not match size of target_names, 440. Try specifying the labels parameter"
     ]
    }
   ],
   "source": [
    "import pandas as pd\n",
    "import numpy as np\n",
    "import matplotlib.pyplot as plt\n",
    "from sklearn.model_selection import train_test_split\n",
    "from sklearn.preprocessing import StandardScaler, LabelEncoder\n",
    "from tensorflow.keras.models import Sequential\n",
    "from tensorflow.keras.layers import LSTM, Dense, Dropout\n",
    "from tensorflow.keras.callbacks import EarlyStopping\n",
    "from sklearn.metrics import classification_report, accuracy_score\n",
    "\n",
    "# Load the dataset\n",
    "data = pd.read_csv('C:/Users/abdulssekyanzi/EDA Dataset.csv/100.csv')  # Replace with your actual file path\n",
    "\n",
    "# Drop unnecessary columns\n",
    "data = data.drop(columns=['Unnamed: 0', 'time_ms'], errors='ignore')\n",
    "\n",
    "# Assume the last column is the target label\n",
    "X = data.iloc[:, :-1].values\n",
    "y = data.iloc[:, -1].values\n",
    "\n",
    "# Encode the target labels\n",
    "label_encoder = LabelEncoder()\n",
    "y = label_encoder.fit_transform(y)\n",
    "\n",
    "# Find unique class and their counts.\n",
    "unique_classes, class_counts = np.unique(y, return_counts=True)\n",
    "print(\"Class Counts:\", dict(zip(unique_classes, class_counts)))\n",
    "\n",
    "# Identify classes with only one sample\n",
    "single_sample_classes = unique_classes[class_counts == 1]\n",
    "\n",
    "# Remove rows corresponding to single-sample classes\n",
    "for cls in single_sample_classes:\n",
    "    data = data[data.iloc[:, -1] != label_encoder.inverse_transform([cls])[0]]\n",
    "\n",
    "# Re-extract X and y after removing rows\n",
    "X = data.iloc[:, :-1].values\n",
    "y = label_encoder.fit_transform(data.iloc[:, -1].values)\n",
    "\n",
    "# Feature scaling\n",
    "scaler = StandardScaler()\n",
    "X = scaler.fit_transform(X)\n",
    "\n",
    "# Reshape the data for RNN/LSTM (samples, timesteps, features)\n",
    "X = X.reshape((X.shape[0], 1, X.shape[1]))\n",
    "\n",
    "# Split the data into training and testing sets\n",
    "X_train, X_test, y_train, y_test = train_test_split(X, y, test_size=0.2, random_state=42, stratify=y)\n",
    "\n",
    "# Build the LSTM model\n",
    "model = Sequential()\n",
    "model.add(LSTM(64, return_sequences=True, input_shape=(X_train.shape[1], X_train.shape[2])))\n",
    "model.add(Dropout(0.3))\n",
    "model.add(LSTM(32, return_sequences=False))\n",
    "model.add(Dropout(0.3))\n",
    "model.add(Dense(32, activation='relu'))\n",
    "model.add(Dense(len(np.unique(y)), activation='softmax'))\n",
    "\n",
    "# Compile the model\n",
    "model.compile(optimizer='adam', loss='sparse_categorical_crossentropy', metrics=['accuracy'])\n",
    "\n",
    "# Print the model summary\n",
    "model.summary()\n",
    "\n",
    "# Early stopping\n",
    "early_stopping = EarlyStopping(monitor='val_loss', patience=10, restore_best_weights=True)\n",
    "\n",
    "# Train the model\n",
    "history = model.fit(\n",
    "    X_train, y_train,\n",
    "    epochs=10,\n",
    "    batch_size=16,\n",
    "    validation_data=(X_test, y_test),\n",
    "    callbacks=[early_stopping]\n",
    ")\n",
    "\n",
    "# Predict on the test set\n",
    "y_pred = model.predict(X_test)\n",
    "y_pred_classes = np.argmax(y_pred, axis=1)\n",
    "\n",
    "# Calculate accuracy\n",
    "accuracy = accuracy_score(y_test, y_pred_classes)\n",
    "print(f\"Test Accuracy: {accuracy * 100:.2f}%\")\n",
    "\n",
    "# Classification report\n",
    "print(classification_report(y_test, y_pred_classes, target_names=label_encoder.classes_))\n",
    "\n",
    "# Plot training history\n",
    "plt.figure(figsize=(12, 4))\n",
    "\n",
    "# Plot loss\n",
    "plt.subplot(1, 2, 1)\n",
    "plt.plot(history.history['loss'], label='Training Loss')\n",
    "plt.plot(history.history['val_loss'], label='Validation Loss')\n",
    "plt.title('Loss Over Epochs')\n",
    "plt.xlabel('Epoch')\n",
    "plt.ylabel('Loss')\n",
    "plt.legend()\n",
    "\n",
    "# Plot accuracy\n",
    "plt.subplot(1, 2, 2)\n",
    "plt.plot(history.history['accuracy'], label='Training Accuracy')\n",
    "plt.plot(history.history['val_accuracy'], label='Validation Accuracy')\n",
    "plt.title('Accuracy Over Epochs')\n",
    "plt.xlabel('Epoch')\n",
    "plt.ylabel('Accuracy')\n",
    "plt.legend()\n",
    "\n",
    "plt.show()"
   ]
  },
  {
   "cell_type": "code",
   "execution_count": null,
   "id": "a64ce58b-f3ce-4438-9315-798773c5dbb2",
   "metadata": {},
   "outputs": [],
   "source": []
  }
 ],
 "metadata": {
  "kernelspec": {
   "display_name": "Python 3 (ipykernel)",
   "language": "python",
   "name": "python3"
  },
  "language_info": {
   "codemirror_mode": {
    "name": "ipython",
    "version": 3
   },
   "file_extension": ".py",
   "mimetype": "text/x-python",
   "name": "python",
   "nbconvert_exporter": "python",
   "pygments_lexer": "ipython3",
   "version": "3.12.6"
  }
 },
 "nbformat": 4,
 "nbformat_minor": 5
}
