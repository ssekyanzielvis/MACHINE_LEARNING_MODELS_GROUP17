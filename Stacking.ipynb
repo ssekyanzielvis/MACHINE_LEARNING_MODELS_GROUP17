{
 "cells": [
  {
   "cell_type": "code",
   "execution_count": 9,
   "id": "d730b018-03d9-41f7-9de9-e31949a5ef0e",
   "metadata": {},
   "outputs": [],
   "source": [
    "import pandas as pd\n",
    "from sklearn.model_selection import train_test_split, cross_val_predict\n",
    "from sklearn.ensemble import RandomForestClassifier, GradientBoostingClassifier\n",
    "from sklearn.linear_model import LogisticRegression\n",
    "from sklearn.metrics import classification_report, accuracy_score\n",
    "from sklearn.preprocessing import StandardScaler\n",
    "from sklearn.naive_bayes import GaussianNB #Example additional base model\n",
    "\n",
    "# Load your dataset (replace 'your_data.csv' with your actual file path)\n",
    "data = pd.read_csv('C:/Users/abdulssekyanzi/EDA Dataset.csv/100.csv')\n",
    "\n",
    "# Assuming your target variable is in a separate file or column.\n",
    "# For demonstration purposes, I'll create a dummy target.\n",
    "# You'll need to replace this with your actual target variable.\n",
    "# Example: If your target is in a 'target.csv' file:\n",
    "# target_data = pd.read_csv('target.csv')\n",
    "# y = target_data['target_column']\n",
    "\n"
   ]
  },
  {
   "cell_type": "code",
   "execution_count": 10,
   "id": "42a8bcf7-12ec-4e42-801a-e4186cfb993e",
   "metadata": {},
   "outputs": [],
   "source": [
    "#Example of creating a dummy target, replace with your actual target!\n",
    "import numpy as np\n",
    "y = np.random.randint(0, 2, size=len(data)) #Binary classification example.\n",
    "\n",
    "# Select features (time_ms, MLII, V5)\n",
    "X = data[['time_ms', 'MLII', 'V5']]\n",
    "\n",
    "# Scale the features\n",
    "scaler = StandardScaler()\n",
    "X_scaled = scaler.fit_transform(X)\n",
    "\n",
    "# Split the data into training and testing sets\n",
    "X_train, X_test, y_train, y_test = train_test_split(X_scaled, y, test_size=0.2, random_state=42)\n",
    "\n"
   ]
  },
  {
   "cell_type": "code",
   "execution_count": null,
   "id": "34adb420-9237-451d-8a06-6efdbdb2ed02",
   "metadata": {},
   "outputs": [],
   "source": [
    "# Base Models\n",
    "rf = RandomForestClassifier(n_estimators=100, random_state=42)\n",
    "gb = GradientBoostingClassifier(random_state=42)\n",
    "nb = GaussianNB() #Example additional model\n",
    "\n",
    "# Train base models and generate out-of-fold predictions\n",
    "rf_oof_predictions = cross_val_predict(rf, X_train, y_train, cv=5) #5 fold cross validation\n",
    "gb_oof_predictions = cross_val_predict(gb, X_train, y_train, cv=5)\n",
    "nb_oof_predictions = cross_val_predict(nb, X_train, y_train, cv=5)\n",
    "\n",
    "# Create the meta-features (predictions from base models)\n",
    "meta_features = pd.DataFrame({\n",
    "    'rf_predictions': rf_oof_predictions,\n",
    "    'gb_predictions': gb_oof_predictions,\n",
    "    'nb_predictions': nb_oof_predictions,\n",
    "})\n",
    "\n"
   ]
  },
  {
   "cell_type": "code",
   "execution_count": 4,
   "id": "d5cbd032-96e5-4de2-8f44-af4ada68c606",
   "metadata": {},
   "outputs": [],
   "source": [
    "# Train the meta-model (Logistic Regression in this example)\n",
    "meta_model = LogisticRegression(random_state=42)\n",
    "meta_model.fit(meta_features, y_train)\n",
    "\n",
    "# Generate predictions on the test set from the base models\n",
    "rf.fit(X_train, y_train)\n",
    "gb.fit(X_train, y_train)\n",
    "nb.fit(X_train, y_train)\n",
    "\n",
    "rf_test_predictions = rf.predict(X_test)\n",
    "gb_test_predictions = gb.predict(X_test)\n",
    "nb_test_predictions = nb.predict(X_test)\n",
    "\n",
    "# Create meta-features for the test set\n",
    "test_meta_features = pd.DataFrame({\n",
    "    'rf_predictions': rf_test_predictions,\n",
    "    'gb_predictions': gb_test_predictions,\n",
    "    'nb_predictions': nb_test_predictions,\n",
    "})\n",
    "\n",
    "# Make final predictions using the meta-model\n",
    "final_predictions = meta_model.predict(test_meta_features)\n",
    "\n"
   ]
  },
  {
   "cell_type": "code",
   "execution_count": 5,
   "id": "bebe9085-af92-40ac-b93a-723647a4bb38",
   "metadata": {},
   "outputs": [
    {
     "name": "stdout",
     "output_type": "stream",
     "text": [
      "Stacking Model Results:\n",
      "              precision    recall  f1-score   support\n",
      "\n",
      "           0       0.50      0.73      0.60     64859\n",
      "           1       0.50      0.27      0.35     65141\n",
      "\n",
      "    accuracy                           0.50    130000\n",
      "   macro avg       0.50      0.50      0.47    130000\n",
      "weighted avg       0.50      0.50      0.47    130000\n",
      "\n",
      "Accuracy: 0.5009461538461538\n"
     ]
    }
   ],
   "source": [
    "# Evaluate the model\n",
    "print(\"Stacking Model Results:\")\n",
    "print(classification_report(y_test, final_predictions))\n",
    "print(\"Accuracy:\", accuracy_score(y_test, final_predictions))\n",
    "\n"
   ]
  },
  {
   "cell_type": "code",
   "execution_count": 6,
   "id": "f118d945-b8b1-403a-a430-9b9d193b29c9",
   "metadata": {},
   "outputs": [
    {
     "name": "stdout",
     "output_type": "stream",
     "text": [
      "\n",
      "Base Model Results (Random Forest):\n",
      "              precision    recall  f1-score   support\n",
      "\n",
      "           0       0.50      0.51      0.50     64859\n",
      "           1       0.50      0.50      0.50     65141\n",
      "\n",
      "    accuracy                           0.50    130000\n",
      "   macro avg       0.50      0.50      0.50    130000\n",
      "weighted avg       0.50      0.50      0.50    130000\n",
      "\n",
      "Accuracy: 0.5016615384615385\n"
     ]
    }
   ],
   "source": [
    "#Optional: Print base model results for comparison.\n",
    "print(\"\\nBase Model Results (Random Forest):\")\n",
    "print(classification_report(y_test, rf_test_predictions))\n",
    "print(\"Accuracy:\", accuracy_score(y_test, rf_test_predictions))\n"
   ]
  },
  {
   "cell_type": "code",
   "execution_count": 7,
   "id": "b750b3de-8da6-47cb-a61d-a2fb8fd43bbd",
   "metadata": {},
   "outputs": [
    {
     "name": "stdout",
     "output_type": "stream",
     "text": [
      "\n",
      "Base Model Results (Gradient Boosting):\n",
      "              precision    recall  f1-score   support\n",
      "\n",
      "           0       0.50      0.67      0.57     64859\n",
      "           1       0.50      0.33      0.40     65141\n",
      "\n",
      "    accuracy                           0.50    130000\n",
      "   macro avg       0.50      0.50      0.48    130000\n",
      "weighted avg       0.50      0.50      0.48    130000\n",
      "\n",
      "Accuracy: 0.4996846153846154\n"
     ]
    }
   ],
   "source": [
    "\n",
    "print(\"\\nBase Model Results (Gradient Boosting):\")\n",
    "print(classification_report(y_test, gb_test_predictions))\n",
    "print(\"Accuracy:\", accuracy_score(y_test, gb_test_predictions))\n",
    "\n"
   ]
  },
  {
   "cell_type": "code",
   "execution_count": 8,
   "id": "8f6a63ac-80d1-4e57-bc81-950abc034fc1",
   "metadata": {},
   "outputs": [
    {
     "name": "stdout",
     "output_type": "stream",
     "text": [
      "\n",
      "Base Model Results (Naive Bayes):\n",
      "              precision    recall  f1-score   support\n",
      "\n",
      "           0       0.50      0.15      0.23     64859\n",
      "           1       0.50      0.85      0.63     65141\n",
      "\n",
      "    accuracy                           0.50    130000\n",
      "   macro avg       0.50      0.50      0.43    130000\n",
      "weighted avg       0.50      0.50      0.43    130000\n",
      "\n",
      "Accuracy: 0.500523076923077\n"
     ]
    }
   ],
   "source": [
    "print(\"\\nBase Model Results (Naive Bayes):\")\n",
    "print(classification_report(y_test, nb_test_predictions))\n",
    "print(\"Accuracy:\", accuracy_score(y_test, nb_test_predictions))"
   ]
  }
 ],
 "metadata": {
  "kernelspec": {
   "display_name": "Python 3 (ipykernel)",
   "language": "python",
   "name": "python3"
  },
  "language_info": {
   "codemirror_mode": {
    "name": "ipython",
    "version": 3
   },
   "file_extension": ".py",
   "mimetype": "text/x-python",
   "name": "python",
   "nbconvert_exporter": "python",
   "pygments_lexer": "ipython3",
   "version": "3.12.6"
  }
 },
 "nbformat": 4,
 "nbformat_minor": 5
}
