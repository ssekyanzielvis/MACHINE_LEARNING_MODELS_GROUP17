{
 "cells": [
  {
   "cell_type": "code",
   "execution_count": 1,
   "id": "b98eabd9-8e0d-4ca3-ae84-fa40d7c0b478",
   "metadata": {},
   "outputs": [
    {
     "name": "stdout",
     "output_type": "stream",
     "text": [
      "Train Class Distribution: (array([0]), array([3465]))\n",
      "Test Class Distribution: (array([0]), array([867]))\n"
     ]
    },
    {
     "name": "stderr",
     "output_type": "stream",
     "text": [
      "C:\\Users\\abdulssekyanzi\\AppData\\Local\\Programs\\Python\\Python312\\Lib\\site-packages\\sklearn\\model_selection\\_search.py:1108: UserWarning: One or more of the test scores are non-finite: [nan]\n",
      "  warnings.warn(\n"
     ]
    },
    {
     "name": "stdout",
     "output_type": "stream",
     "text": [
      "Cross-Validation F1 Scores: [nan nan nan]\n",
      "Mean Cross-Validation F1 Score: nan\n",
      "Test Accuracy: 1.0\n",
      "Test F1 Score: 0.0\n",
      "ROC-AUC Score not calculated: Single-class prediction.\n",
      "Classification Report:\n",
      "              precision    recall  f1-score   support\n",
      "\n",
      "           0       1.00      1.00      1.00       867\n",
      "\n",
      "    accuracy                           1.00       867\n",
      "   macro avg       1.00      1.00      1.00       867\n",
      "weighted avg       1.00      1.00      1.00       867\n",
      "\n"
     ]
    },
    {
     "name": "stderr",
     "output_type": "stream",
     "text": [
      "C:\\Users\\abdulssekyanzi\\AppData\\Local\\Programs\\Python\\Python312\\Lib\\site-packages\\sklearn\\metrics\\_classification.py:1565: UndefinedMetricWarning: F-score is ill-defined and being set to 0.0 due to no true nor predicted samples. Use `zero_division` parameter to control this behavior.\n",
      "  _warn_prf(average, modifier, f\"{metric.capitalize()} is\", len(result))\n"
     ]
    }
   ],
   "source": [
    "import pandas as pd\n",
    "import numpy as np\n",
    "from sklearn.model_selection import train_test_split, GridSearchCV, cross_val_score\n",
    "from sklearn.ensemble import RandomForestClassifier\n",
    "from sklearn.metrics import classification_report, accuracy_score, f1_score, roc_auc_score\n",
    "from scipy.signal import find_peaks\n",
    "\n",
    "# Feature Extraction (Optimized)\n",
    "def extract_features_optimized(window_mlii, window_v5):\n",
    "    mean_mlii = np.mean(window_mlii)\n",
    "    std_mlii = np.std(window_mlii)\n",
    "    min_mlii = np.min(window_mlii)\n",
    "    max_mlii = np.max(window_mlii)\n",
    "    mean_v5 = np.mean(window_v5)\n",
    "    std_v5 = np.std(window_v5)\n",
    "    min_v5 = np.min(window_v5)\n",
    "    max_v5 = np.max(window_v5)\n",
    "    peaks_mlii, _ = find_peaks(window_mlii, distance=50)\n",
    "    rr_intervals = np.diff(peaks_mlii)\n",
    "    rr_mean = np.mean(rr_intervals) if len(rr_intervals) > 0 else 0\n",
    "    rr_std = np.std(rr_intervals) if len(rr_intervals) > 0 else 0\n",
    "    return np.array([mean_mlii, std_mlii, min_mlii, max_mlii, mean_v5, std_v5, min_v5, max_v5, rr_mean, rr_std])\n",
    "\n",
    "# Create Windows and Labels\n",
    "def create_windows_and_labels(df, window_size, overlap, labels_dict):\n",
    "    windows = []\n",
    "    labels = []\n",
    "    for start in range(0, len(df) - window_size, int(window_size * (1 - overlap))):\n",
    "        end = start + window_size\n",
    "        window_mlii = df['MLII'].values[start:end]\n",
    "        window_v5 = df['V5'].values[start:end]\n",
    "        features = extract_features_optimized(window_mlii, window_v5)\n",
    "        windows.append(features)\n",
    "        label = labels_dict.get(df['Unnamed: 0'].iloc[end - 1], 0)\n",
    "        labels.append(label)\n",
    "    return np.array(windows), np.array(labels)\n",
    "\n",
    "# Load Data\n",
    "df = pd.read_csv('C:/Users/abdulssekyanzi/EDA Dataset.csv/100.csv')\n",
    "\n",
    "# Load Labels (Dummy Dictionary for Demonstration)\n",
    "labels_dict = {}\n",
    "# Example: labels_dict[1000] = 1\n",
    "\n",
    "# Windowing and Feature Extraction\n",
    "window_size = 300\n",
    "overlap = 0.5\n",
    "X, y = create_windows_and_labels(df, window_size, overlap, labels_dict)\n",
    "\n",
    "# Data Splitting\n",
    "X_train, X_test, y_train, y_test = train_test_split(X, y, test_size=0.2, random_state=42, stratify=y)\n",
    "\n",
    "# Check Class Distribution\n",
    "print(\"Train Class Distribution:\", np.unique(y_train, return_counts=True))\n",
    "print(\"Test Class Distribution:\", np.unique(y_test, return_counts=True))\n",
    "\n",
    "# Model Training and Hyperparameter Tuning (Optimized)\n",
    "model = RandomForestClassifier(random_state=42, n_jobs=-1)\n",
    "param_grid = {'n_estimators': [100], 'max_depth': [10], 'min_samples_split': [5], 'min_samples_leaf': [2]}\n",
    "grid_search = GridSearchCV(model, param_grid, cv=3, scoring='f1', n_jobs=-1)\n",
    "grid_search.fit(X_train, y_train)\n",
    "best_model = grid_search.best_estimator_\n",
    "\n",
    "# Cross-Validation (Optimized)\n",
    "cv_scores = cross_val_score(best_model, X_train, y_train, cv=3, scoring='f1', n_jobs=-1)\n",
    "print(f\"Cross-Validation F1 Scores: {cv_scores}\")\n",
    "print(f\"Mean Cross-Validation F1 Score: {np.mean(cv_scores)}\")\n",
    "\n",
    "# Evaluation\n",
    "y_pred = best_model.predict(X_test)\n",
    "print(f\"Test Accuracy: {accuracy_score(y_test, y_pred)}\")\n",
    "print(f\"Test F1 Score: {f1_score(y_test, y_pred)}\")\n",
    "\n",
    "# Handle ROC-AUC\n",
    "y_proba = best_model.predict_proba(X_test)\n",
    "if y_proba.shape[1] == 2:  # Check if two classes exist\n",
    "    print(f\"Test ROC-AUC Score: {roc_auc_score(y_test, y_proba[:, 1])}\")\n",
    "else:\n",
    "    print(\"ROC-AUC Score not calculated: Single-class prediction.\")\n",
    "\n",
    "print(\"Classification Report:\")\n",
    "print(classification_report(y_test, y_pred))"
   ]
  },
  {
   "cell_type": "code",
   "execution_count": null,
   "id": "476b8c1e-82dc-4c64-b305-2f7015148708",
   "metadata": {},
   "outputs": [],
   "source": []
  },
  {
   "cell_type": "code",
   "execution_count": null,
   "id": "afd864b7-34a0-4f9e-ab76-4bae2c0fab15",
   "metadata": {},
   "outputs": [],
   "source": []
  }
 ],
 "metadata": {
  "kernelspec": {
   "display_name": "Python 3 (ipykernel)",
   "language": "python",
   "name": "python3"
  },
  "language_info": {
   "codemirror_mode": {
    "name": "ipython",
    "version": 3
   },
   "file_extension": ".py",
   "mimetype": "text/x-python",
   "name": "python",
   "nbconvert_exporter": "python",
   "pygments_lexer": "ipython3",
   "version": "3.12.6"
  }
 },
 "nbformat": 4,
 "nbformat_minor": 5
}
