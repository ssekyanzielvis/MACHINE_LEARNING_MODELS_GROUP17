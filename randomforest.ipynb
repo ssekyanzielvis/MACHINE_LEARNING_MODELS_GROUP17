{
 "cells": [
  {
   "cell_type": "code",
   "execution_count": 1,
   "id": "ba12ac59-cec3-4fa7-bae9-7545f0da847b",
   "metadata": {},
   "outputs": [
    {
     "name": "stdout",
     "output_type": "stream",
     "text": [
      "   Unnamed: 0    time_ms   MLII     V5\n",
      "0           0   0.000000 -0.145 -0.065\n",
      "1           1   2.777778 -0.145 -0.065\n",
      "2           2   5.555556 -0.145 -0.065\n",
      "3           3   8.333333 -0.145 -0.065\n",
      "4           4  11.111111 -0.145 -0.065\n"
     ]
    }
   ],
   "source": [
    "# Import necessary libraries\n",
    "import numpy as np\n",
    "import pandas as pd\n",
    "from sklearn.model_selection import train_test_split\n",
    "from sklearn.ensemble import RandomForestClassifier\n",
    "from sklearn.metrics import classification_report, confusion_matrix, accuracy_score\n",
    "from sklearn.preprocessing import StandardScaler, LabelEncoder\n",
    "import matplotlib.pyplot as plt\n",
    "\n",
    "df = pd.read_csv('C:/Users/abdulssekyanzi/EDA Dataset.csv/100.csv')\n",
    "print(df.head()) \n",
    "\n"
   ]
  },
  {
   "cell_type": "code",
   "execution_count": 2,
   "id": "59d7a57b-5d16-45fc-afea-687171f27d6e",
   "metadata": {},
   "outputs": [],
   "source": [
    "def load_and_preprocess_data(file_path, synthetic_labels=False):\n",
    "    \"\"\"\n",
    "    Load and preprocess the MIT-BIH Arrhythmia Dataset from a CSV file.\n",
    "    Optionally generate synthetic labels for testing purposes.\n",
    "    \"\"\"\n",
    "    # Load the dataset\n",
    "    df = pd.read_csv(file_path)\n",
    "    \n",
    "    # Drop unnecessary columns\n",
    "    if 'Unnamed: 0' in df.columns:\n",
    "        df = df.drop(columns=['Unnamed: 0'])\n",
    "    \n",
    "    # Extract features (ECG signals)\n",
    "    X = df[['MLII', 'V5']].values  # Features: MLII and V5\n",
    "    \n",
    "    # Handle labels\n",
    "    if 'label' in df.columns:\n",
    "        y = df['label'].values  # Use existing labels if available\n",
    "    elif synthetic_labels:\n",
    "        print(\"Generating synthetic labels for testing purposes...\")\n",
    "        y = np.random.randint(0, 5, size=len(X))  # Generate random labels (0 to 4)\n",
    "    else:\n",
    "        raise ValueError(\"The dataset does not contain a 'label' column. Please ensure labels are included.\")\n",
    "    \n",
    "    # Encode categorical labels\n",
    "    label_encoder = LabelEncoder()\n",
    "    y = label_encoder.fit_transform(y)  # Encode labels into integers\n",
    "    \n",
    "    # Split the data into training and testing sets\n",
    "    X_train, X_test, y_train, y_test = train_test_split(X, y, test_size=0.2, random_state=42)\n",
    "    \n",
    "    # Scale the features (standardize to zero mean and unit variance)\n",
    "    scaler = StandardScaler()\n",
    "    X_train = scaler.fit_transform(X_train)\n",
    "    X_test = scaler.transform(X_test)\n",
    "    \n",
    "    return X_train, X_test, y_train, y_test, label_encoder.classes_"
   ]
  },
  {
   "cell_type": "code",
   "execution_count": 3,
   "id": "d2ada4d2-b3d8-4503-a89f-d73b21fc3715",
   "metadata": {},
   "outputs": [],
   "source": [
    "# Step 2: Train a Random Forest Classifier\n",
    "def train_random_forest(X_train, y_train, n_estimators=100, max_depth=None):\n",
    "    \"\"\"\n",
    "    Train a Random Forest classifier on the dataset.\n",
    "    \"\"\"\n",
    "    print(\"Training the Random Forest Classifier...\")\n",
    "    # Initialize the Random Forest model\n",
    "    rf_model = RandomForestClassifier(n_estimators=n_estimators, max_depth=max_depth, random_state=42)\n",
    "    \n",
    "    # Train the model\n",
    "    rf_model.fit(X_train, y_train)\n",
    "    \n",
    "    return rf_model\n",
    "\n"
   ]
  },
  {
   "cell_type": "code",
   "execution_count": 4,
   "id": "6b20910d-bbeb-46b8-a88e-e9effe1b3b6b",
   "metadata": {},
   "outputs": [],
   "source": [
    "# Step 3: Evaluate the Model\n",
    "def evaluate_model(rf_model, X_test, y_test):\n",
    "    \"\"\"\n",
    "    Evaluate the performance of the Random Forest model.\n",
    "    \"\"\"\n",
    "    print(\"Evaluating the Random Forest Model...\")\n",
    "    # Make predictions\n",
    "    y_pred = rf_model.predict(X_test)\n",
    "    \n",
    "    # Calculate accuracy\n",
    "    accuracy = accuracy_score(y_test, y_pred)\n",
    "    print(f\"Test Accuracy: {accuracy:.4f}\")\n",
    "    \n",
    "    # Print classification report\n",
    "    print(\"\\nClassification Report:\")\n",
    "    print(classification_report(y_test, y_pred))\n",
    "    \n",
    "    # Print confusion matrix\n",
    "    print(\"\\nConfusion Matrix:\")\n",
    "    print(confusion_matrix(y_test, y_pred))\n",
    "\n"
   ]
  },
  {
   "cell_type": "code",
   "execution_count": 5,
   "id": "e31012b7-7de6-4149-8a8e-cde1879e5273",
   "metadata": {},
   "outputs": [],
   "source": [
    "# Step 4: Feature Importance Analysis\n",
    "def analyze_feature_importance(rf_model, feature_names):\n",
    "    \"\"\"\n",
    "    Analyze and visualize feature importance from the Random Forest model.\n",
    "    \"\"\"\n",
    "    print(\"Analyzing Feature Importance...\")\n",
    "    # Get feature importances\n",
    "    importances = rf_model.feature_importances_\n",
    "    \n",
    "    # Create a DataFrame for visualization\n",
    "    feature_importance_df = pd.DataFrame({\n",
    "        'Feature': feature_names,\n",
    "        'Importance': importances\n",
    "    }).sort_values(by='Importance', ascending=False)\n",
    "    \n",
    "    # Print feature importance\n",
    "    print(\"\\nFeature Importance:\")\n",
    "    print(feature_importance_df)\n",
    "    \n",
    "    # Plot feature importance\n",
    "    plt.figure(figsize=(8, 6))\n",
    "    plt.barh(feature_importance_df['Feature'], feature_importance_df['Importance'], color='skyblue')\n",
    "    plt.xlabel('Importance Score')\n",
    "    plt.ylabel('Feature')\n",
    "    plt.title('Feature Importance Analysis')\n",
    "    plt.gca().invert_yaxis()  # Invert y-axis for better readability\n",
    "    plt.show()\n",
    "\n"
   ]
  },
  {
   "cell_type": "code",
   "execution_count": 6,
   "id": "2144481c-49e0-4b22-a33a-940095a41da5",
   "metadata": {},
   "outputs": [
    {
     "name": "stdout",
     "output_type": "stream",
     "text": [
      "Generating synthetic labels for testing purposes...\n",
      "Training the Random Forest Classifier...\n",
      "Evaluating the Random Forest Model...\n",
      "Test Accuracy: 0.1984\n",
      "\n",
      "Classification Report:\n",
      "              precision    recall  f1-score   support\n",
      "\n",
      "           0       0.20      0.20      0.20     25694\n",
      "           1       0.20      0.21      0.20     25838\n",
      "           2       0.20      0.20      0.20     26127\n",
      "           3       0.20      0.18      0.19     26150\n",
      "           4       0.20      0.20      0.20     26191\n",
      "\n",
      "    accuracy                           0.20    130000\n",
      "   macro avg       0.20      0.20      0.20    130000\n",
      "weighted avg       0.20      0.20      0.20    130000\n",
      "\n",
      "\n",
      "Confusion Matrix:\n",
      "[[5231 5209 5214 4924 5116]\n",
      " [5294 5305 5173 4825 5241]\n",
      " [5321 5350 5300 4897 5259]\n",
      " [5476 5267 5360 4805 5242]\n",
      " [5331 5487 5292 4930 5151]]\n",
      "Analyzing Feature Importance...\n",
      "\n",
      "Feature Importance:\n",
      "  Feature  Importance\n",
      "1      V5    0.522781\n",
      "0    MLII    0.477219\n"
     ]
    },
    {
     "data": {
      "image/png": "[encoded data removed]",
      "text/plain": [
       "<Figure size 800x600 with 1 Axes>"
      ]
     },
     "metadata": {},
     "output_type": "display_data"
    }
   ],
   "source": [
    "# Step 5: Main Execution\n",
    "if __name__ == \"__main__\":\n",
    "    # Load and preprocess the dataset\n",
    "   file_path = \"C:/Users/abdulssekyanzi/EDA Dataset.csv/100.csv\"  # Replace with your dataset path\n",
    "X_train, X_test, y_train, y_test, class_names = load_and_preprocess_data(file_path, synthetic_labels=True)\n",
    "\n",
    "# Train the Random Forest model\n",
    "rf_model = train_random_forest(X_train, y_train, n_estimators=100, max_depth=None)\n",
    "\n",
    "# Evaluate the model\n",
    "evaluate_model(rf_model, X_test, y_test)\n",
    "\n",
    "# Analyze feature importance\n",
    "feature_names = ['MLII', 'V5']  # Replace with actual feature names if different\n",
    "analyze_feature_importance(rf_model, feature_names)"
   ]
  },
  {
   "cell_type": "code",
   "execution_count": null,
   "id": "d9b16e59-18dd-436e-a5c4-e6ca0e8d50b9",
   "metadata": {},
   "outputs": [],
   "source": []
  }
 ],
 "metadata": {
  "kernelspec": {
   "display_name": "Python 3 (ipykernel)",
   "language": "python",
   "name": "python3"
  },
  "language_info": {
   "codemirror_mode": {
    "name": "ipython",
    "version": 3
   },
   "file_extension": ".py",
   "mimetype": "text/x-python",
   "name": "python",
   "nbconvert_exporter": "python",
   "pygments_lexer": "ipython3",
   "version": "3.12.6"
  }
 },
 "nbformat": 4,
 "nbformat_minor": 5
}
